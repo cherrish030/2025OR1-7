{
 "cells": [
  {
   "cell_type": "markdown",
   "id": "9baf0e22",
   "metadata": {},
   "source": [
    "### Instance generator"
   ]
  },
  {
   "cell_type": "code",
   "execution_count": 8,
   "id": "73c3eb44",
   "metadata": {},
   "outputs": [
    {
     "name": "stdout",
     "output_type": "stream",
     "text": [
      "Instance 1:\n",
      "[0 81 97 86 76 16 1 42 48 1; 81 0 53 12 93 16 16 17 50 88; 97 53 0 98 24 51 36 92 82 83; 86 12 98 0 28 34 93 16 73 54; 76 93 24 28 0 67 99 15 81 88; 16 16 51 34 67 0 30 5 23 20; 1 16 36 93 99 30 0 68 75 83; 42 17 92 16 15 5 68 0 39 49; 48 50 82 73 81 23 75 39 0 81; 1 88 83 54 88 20 83 49 81 0]\n",
      "\n",
      "Instance 2:\n",
      "[0 84 61 92 27 17 19 4 96 16; 84 0 68 59 94 31 35 76 77 40; 61 68 0 56 49 99 2 67 70 38; 92 59 56 0 93 21 14 52 47 18; 27 94 49 93 0 23 28 60 65 89; 17 31 99 21 23 0 91 27 95 92; 19 35 2 14 28 91 0 7 61 76; 4 76 67 52 60 27 7 0 93 68; 96 77 70 47 65 95 61 93 0 47; 16 40 38 18 89 92 76 68 47 0]\n",
      "\n",
      "Instance 3:\n",
      "[0 87 67 25 82 12 96 56 68 93; 87 0 6 6 66 79 85 22 89 80; 67 6 0 25 72 83 3 81 19 46; 25 6 25 0 33 52 69 96 63 2; 82 66 72 33 0 26 34 74 53 4; 12 79 83 52 26 0 46 43 86 44; 96 85 3 69 34 46 0 59 1 49; 56 22 81 96 74 43 59 0 81 75; 68 89 19 63 53 86 1 81 0 36; 93 80 46 2 4 44 49 75 36 0]\n",
      "\n",
      "Instance 4:\n",
      "[0 6 25 1 76 75 85 61 88 52; 6 0 50 54 59 24 48 43 65 86; 25 50 0 62 5 53 55 65 9 28; 1 54 62 0 8 30 32 36 83 4; 76 59 5 8 0 78 43 95 2 66; 75 24 53 30 78 0 29 78 63 66; 85 48 55 32 43 29 0 77 83 2; 61 43 65 36 95 78 77 0 71 6; 88 65 9 83 2 63 83 71 0 52; 52 86 28 4 66 66 2 6 52 0]\n",
      "\n",
      "Instance 5:\n",
      "[0 19 71 96 46 94 28 49 69 23; 19 0 14 45 44 21 52 8 71 36; 71 14 0 41 78 67 52 8 87 52; 96 45 41 0 94 83 25 95 39 35; 46 44 78 94 0 98 63 88 59 76; 94 21 67 83 98 0 38 44 2 23; 28 52 52 25 63 38 0 54 38 39; 49 8 8 95 88 44 54 0 52 50; 69 71 87 39 59 2 38 52 0 43; 23 36 52 35 76 23 39 50 43 0]\n",
      "\n"
     ]
    }
   ],
   "source": [
    "using Random\n",
    "\n",
    "function generate_random_symmetric_tsp(n::Int, max_cost::Int=100)\n",
    "    C = zeros(Int, n, n)\n",
    "    for i in 1:n-1\n",
    "        for j in i+1:n\n",
    "            C[i, j] = rand(1:max_cost)\n",
    "            C[j, i] = C[i, j]\n",
    "        end\n",
    "    end\n",
    "    return C\n",
    "end\n",
    "\n",
    "# Generate 5 random TSP instances with n=10\n",
    "tsp_instances = [generate_random_symmetric_tsp(10) for _ in 1:5]\n",
    "\n",
    "# Print each instance\n",
    "for (idx, mat) in enumerate(tsp_instances)\n",
    "    println(\"Instance $idx:\")\n",
    "    println(mat)\n",
    "    println()\n",
    "end"
   ]
  },
  {
   "cell_type": "markdown",
   "id": "ff33d871",
   "metadata": {},
   "source": [
    "### (a) MTZ formulation"
   ]
  },
  {
   "cell_type": "code",
   "execution_count": 3,
   "id": "8abb0cff",
   "metadata": {},
   "outputs": [],
   "source": [
    "using JuMP, Gurobi, Statistics"
   ]
  },
  {
   "cell_type": "code",
   "execution_count": 4,
   "id": "aeb5a7d5",
   "metadata": {},
   "outputs": [
    {
     "data": {
      "text/plain": [
       "solve_mtz_tsp (generic function with 1 method)"
      ]
     },
     "metadata": {},
     "output_type": "display_data"
    }
   ],
   "source": [
    "function solve_mtz_tsp(C::Matrix{Int})\n",
    "    n = size(C, 1)\n",
    "    model = Model(Gurobi.Optimizer)\n",
    "    \n",
    "    set_silent(model)\n",
    "\n",
    "    # Binary decision variables x[i,j]\n",
    "    @variable(model, x[1:n, 1:n], Bin)\n",
    "    # MTZ auxiliary variables with bounds 2 <= u[i] <= n for i=2..n\n",
    "    @variable(model, 2 <= u[2:n] <= n)\n",
    "\n",
    "    # Objective: minimize total cost\n",
    "    @objective(model, Min, sum(C[i,j] * x[i,j] for i in 1:n, j in 1:n))\n",
    "\n",
    "    # Degree constraints: one in, one out per city\n",
    "    @constraint(model, [i=1:n], sum(x[i, j] for j in 1:n) == 1)\n",
    "    @constraint(model, [j=1:n], sum(x[i, j] for i in 1:n) == 1)\n",
    "\n",
    "    # MTZ subtour elimination\n",
    "    @constraint(model, [i=2:n, j=2:n; i != j], u[i] - u[j] + n * x[i, j] <= n - 1)\n",
    "\n",
    "    # No self-loops\n",
    "    @constraint(model, [i=1:n], x[i, i] == 0)\n",
    "\n",
    "    # Solve and return time & tour length\n",
    "    elapsed = @elapsed optimize!(model)\n",
    "    tour_length = objective_value(model)\n",
    "    return elapsed, tour_length\n",
    "end"
   ]
  },
  {
   "cell_type": "markdown",
   "id": "8a17e06a",
   "metadata": {},
   "source": [
    "### (b) DFJ formulation + lazy constraints"
   ]
  },
  {
   "cell_type": "code",
   "execution_count": 26,
   "id": "ebd13437",
   "metadata": {},
   "outputs": [],
   "source": [
    "using MathOptInterface"
   ]
  },
  {
   "cell_type": "markdown",
   "id": "d4885c55",
   "metadata": {},
   "source": [
    "#### Helper Method"
   ]
  },
  {
   "cell_type": "code",
   "execution_count": 5,
   "id": "08adaf33",
   "metadata": {},
   "outputs": [
    {
     "data": {
      "text/plain": [
       "find_subtours (generic function with 1 method)"
      ]
     },
     "metadata": {},
     "output_type": "display_data"
    }
   ],
   "source": [
    "# Helper to find subtours in a solution matrix\n",
    "function find_subtours(sol::Matrix{Int})\n",
    "\n",
    "    n = size(sol,1)\n",
    "    visited = falses(n)\n",
    "    subtours = Vector{Vector{Int}}()\n",
    "\n",
    "    for i in 1:n\n",
    "        if !visited[i]\n",
    "\n",
    "            queue = [i]\n",
    "            comp = Int[]\n",
    "            visited[i] = true\n",
    "\n",
    "            while !isempty(queue)\n",
    "                u = popfirst!(queue)\n",
    "                push!(comp,u)\n",
    "\n",
    "                for v in 1:n\n",
    "                    if sol[u,v] == 1 && !visited[v]\n",
    "                        visited[v] = true\n",
    "                        push!(queue,v)\n",
    "                    end\n",
    "                end\n",
    "\n",
    "            end\n",
    "\n",
    "            push!(subtours, comp)\n",
    "\n",
    "        end\n",
    "    end\n",
    "    \n",
    "    return subtours\n",
    "\n",
    "end"
   ]
  },
  {
   "cell_type": "markdown",
   "id": "f88114ee",
   "metadata": {},
   "source": [
    "#### Formulation"
   ]
  },
  {
   "cell_type": "code",
   "execution_count": 45,
   "id": "3ea6ee17",
   "metadata": {},
   "outputs": [
    {
     "data": {
      "text/plain": [
       "solve_dfj_tsp (generic function with 1 method)"
      ]
     },
     "metadata": {},
     "output_type": "display_data"
    }
   ],
   "source": [
    "function solve_dfj_tsp(C::Matrix{Int})\n",
    "    n = size(C,1)\n",
    "    model = Model(Gurobi.Optimizer)\n",
    "\n",
    "    set_optimizer_attribute(model, \"LazyConstraints\", 1)\n",
    "    set_silent(model)\n",
    "\n",
    "    @variable(model, x[1:n,1:n], Bin)\n",
    "    @constraint(model, [i=1:n], sum(x[i,j] for j in 1:n) == 1)\n",
    "    @constraint(model, [j=1:n], sum(x[i,j] for i in 1:n) == 1)\n",
    "    @constraint(model, [i=1:n], x[i,i] == 0)\n",
    "    @objective(model, Min, sum(C[i,j]*x[i,j] for i in 1:n, j in 1:n))\n",
    "\n",
    "    function dfj_callback(cb_data)\n",
    "        # Extract current solution\n",
    "        sol = [ callback_value(cb_data, x[i,j]) > 0.5 ? 1 : 0 for i in 1:n, j in 1:n ]\n",
    "        # Add lazy constraints for any subtour smaller than full tour\n",
    "        for tour in find_subtours(sol)\n",
    "            if length(tour) < n\n",
    "                # f = sum(x[i,j] for i in tour, j in tour)\n",
    "                # s = MathOptInterface.LessThan(length(tour)-1)\n",
    "                con = @build_constraint(sum(x[i,j] for i in tour, j in tour) <= length(tour)-1)\n",
    "                MathOptInterface.submit(model, MOI.LazyConstraint(cb_data), con)\n",
    "            end\n",
    "        end\n",
    "    end\n",
    "    # Register callback\n",
    "    MathOptInterface.set(model, MathOptInterface.LazyConstraintCallback(), dfj_callback)\n",
    "    elapsed = @elapsed optimize!(model)\n",
    "    return elapsed, objective_value(model)\n",
    "\n",
    "end"
   ]
  },
  {
   "cell_type": "markdown",
   "id": "ff069944",
   "metadata": {},
   "source": [
    "### (c) 2-opt heuristic"
   ]
  },
  {
   "cell_type": "code",
   "execution_count": 9,
   "id": "b5f98ac8",
   "metadata": {},
   "outputs": [
    {
     "data": {
      "text/plain": [
       "solve_2opt_tsp (generic function with 1 method)"
      ]
     },
     "metadata": {},
     "output_type": "display_data"
    }
   ],
   "source": [
    "function tour_length(C::Matrix{Int}, tour::Vector{Int})\n",
    "    n = length(tour)\n",
    "    total = 0\n",
    "    for i in 1:n-1\n",
    "        total += C[tour[i], tour[i+1]]\n",
    "    end\n",
    "    total += C[tour[n], tour[1]]\n",
    "    return total\n",
    "end\n",
    "\n",
    "function solve_2opt_tsp(C::Matrix{Int})\n",
    "    n = size(C,1)\n",
    "\n",
    "    # randomize\n",
    "    tour = shuffle(collect(1:n))\n",
    "    best_cost = tour_length(C, tour)\n",
    "    improved = true\n",
    "\n",
    "    elapsed = @elapsed begin\n",
    "        while improved\n",
    "            improved = false\n",
    "            for i in 1:n-2\n",
    "                for j in i+2:n\n",
    "                    if !(i == 1 && j == n)\n",
    "                        new_tour = vcat(tour[1:i], reverse(tour[i+1:j]), tour[j+1:end])\n",
    "                        new_cost = tour_length(C, new_tour)\n",
    "                        if new_cost < best_cost\n",
    "                            tour = new_tour\n",
    "                            best_cost = new_cost\n",
    "                            improved = true\n",
    "                            break\n",
    "                        end\n",
    "                    end\n",
    "                end\n",
    "                if improved\n",
    "                    break\n",
    "                end\n",
    "            end\n",
    "        end\n",
    "    end\n",
    "    return elapsed, best_cost\n",
    "end"
   ]
  },
  {
   "cell_type": "markdown",
   "id": "b8db5078",
   "metadata": {},
   "source": [
    "### (d) Concorde.jl package"
   ]
  },
  {
   "cell_type": "code",
   "execution_count": 11,
   "id": "2236e2e7",
   "metadata": {},
   "outputs": [],
   "source": [
    "using Concorde"
   ]
  },
  {
   "cell_type": "code",
   "execution_count": 49,
   "id": "c11b03d5",
   "metadata": {},
   "outputs": [
    {
     "data": {
      "text/plain": [
       "solve_concorde_tsp (generic function with 1 method)"
      ]
     },
     "metadata": {},
     "output_type": "display_data"
    }
   ],
   "source": [
    "function solve_concorde_tsp(C::Matrix{Int})\n",
    "    # Measure time to solve and capture tour\n",
    "    tour = Vector{Int}()\n",
    "    elapsed = @elapsed begin\n",
    "        tour, length = Concorde.solve_tsp(C)\n",
    "    end\n",
    "    return elapsed, length\n",
    "end"
   ]
  },
  {
   "cell_type": "markdown",
   "id": "4ed0990b",
   "metadata": {},
   "source": [
    "### (e) LKH.jl package"
   ]
  },
  {
   "cell_type": "code",
   "execution_count": 12,
   "id": "27e3a520",
   "metadata": {},
   "outputs": [],
   "source": [
    "using LKH"
   ]
  },
  {
   "cell_type": "code",
   "execution_count": 54,
   "id": "f9be9e43",
   "metadata": {},
   "outputs": [
    {
     "data": {
      "text/plain": [
       "solve_lkh_tsp (generic function with 1 method)"
      ]
     },
     "metadata": {},
     "output_type": "display_data"
    }
   ],
   "source": [
    "function solve_lkh_tsp(C::Matrix{Int})\n",
    "    tour = Vector{Int}()\n",
    "    elapsed = @elapsed begin\n",
    "        tour, length = LKH.solve_tsp(C)\n",
    "    end\n",
    "    return elapsed, length\n",
    "end"
   ]
  },
  {
   "cell_type": "markdown",
   "id": "edc31efd",
   "metadata": {},
   "source": [
    "### Run code & compare the records"
   ]
  },
  {
   "cell_type": "code",
   "execution_count": 56,
   "id": "e7a33f3c",
   "metadata": {},
   "outputs": [
    {
     "name": "stdout",
     "output_type": "stream",
     "text": [
      "===== MTZ Results =====\n",
      "Set parameter WLSAccessID\n",
      "Set parameter WLSSecret\n",
      "Set parameter LicenseID to value 2528975\n",
      "Academic license 2528975 - for non-commercial use only - registered to ha___@kaist.ac.kr\n",
      "Inst 1: Time=0.008s, Len=238.0\n",
      "Set parameter WLSAccessID\n",
      "Set parameter WLSSecret\n",
      "Set parameter LicenseID to value 2528975\n",
      "Academic license 2528975 - for non-commercial use only - registered to ha___@kaist.ac.kr\n",
      "Inst 2: Time=0.0084s, Len=215.0\n",
      "Set parameter WLSAccessID\n",
      "Set parameter WLSSecret\n",
      "Set parameter LicenseID to value 2528975\n",
      "Academic license 2528975 - for non-commercial use only - registered to ha___@kaist.ac.kr\n",
      "Inst 3: Time=0.0074s, Len=184.0\n",
      "Set parameter WLSAccessID\n",
      "Set parameter WLSSecret\n",
      "Set parameter LicenseID to value 2528975\n",
      "Academic license 2528975 - for non-commercial use only - registered to ha___@kaist.ac.kr\n",
      "Inst 4: Time=0.0069s, Len=177.0\n",
      "Set parameter WLSAccessID\n",
      "Set parameter WLSSecret\n",
      "Set parameter LicenseID to value 2528975\n",
      "Academic license 2528975 - for non-commercial use only - registered to ha___@kaist.ac.kr\n",
      "Inst 5: Time=0.0219s, Len=215.0\n",
      "\n",
      "===== DFJ Results =====\n",
      "Set parameter WLSAccessID\n",
      "Set parameter WLSSecret\n",
      "Set parameter LicenseID to value 2528975\n",
      "Academic license 2528975 - for non-commercial use only - registered to ha___@kaist.ac.kr\n",
      "Set parameter LazyConstraints to value 1\n",
      "Inst 1: Time=0.0017s, Len=238.0\n",
      "Set parameter WLSAccessID\n",
      "Set parameter WLSSecret\n",
      "Set parameter LicenseID to value 2528975\n",
      "Academic license 2528975 - for non-commercial use only - registered to ha___@kaist.ac.kr\n",
      "Set parameter LazyConstraints to value 1\n",
      "Inst 2: Time=0.0022s, Len=215.0\n",
      "Set parameter WLSAccessID\n",
      "Set parameter WLSSecret\n",
      "Set parameter LicenseID to value 2528975\n",
      "Academic license 2528975 - for non-commercial use only - registered to ha___@kaist.ac.kr\n",
      "Set parameter LazyConstraints to value 1\n",
      "Inst 3: Time=0.0018s, Len=184.0\n",
      "Set parameter WLSAccessID\n",
      "Set parameter WLSSecret\n",
      "Set parameter LicenseID to value 2528975\n",
      "Academic license 2528975 - for non-commercial use only - registered to ha___@kaist.ac.kr\n",
      "Set parameter LazyConstraints to value 1\n",
      "Inst 4: Time=0.0018s, Len=177.0\n",
      "Set parameter WLSAccessID\n",
      "Set parameter WLSSecret\n",
      "Set parameter LicenseID to value 2528975\n",
      "Academic license 2528975 - for non-commercial use only - registered to ha___@kaist.ac.kr\n",
      "Set parameter LazyConstraints to value 1\n",
      "Inst 5: Time=0.0018s, Len=215.0\n",
      "\n",
      "===== 2-opt Results =====\n",
      "Inst 1: Time=0.0s, Len=238\n",
      "Inst 2: Time=0.0s, Len=215\n",
      "Inst 3: Time=0.0s, Len=202\n",
      "Inst 4: Time=0.0s, Len=177\n",
      "Inst 5: Time=0.0s, Len=215\n",
      "\n",
      "===== Concorde Results =====\n",
      "Inst 1: Time=0.0141s, Len=238\n",
      "Inst 2: Time=0.003s, Len=215\n",
      "Inst 3: Time=0.0029s, Len=184\n",
      "Inst 4: Time=0.0022s, Len=177\n",
      "Inst 5: Time=0.0031s, Len=215\n",
      "\n",
      "===== LKH Results =====\n",
      "Inst 1: Time=0.0017s, Len=238\n",
      "Inst 2: Time=0.0013s, Len=215\n",
      "Inst 3: Time=0.0027s, Len=184\n",
      "Inst 4: Time=0.0013s, Len=177\n",
      "Inst 5: Time=0.0025s, Len=215\n",
      "\n",
      "\n",
      "MTZ Avg: Time=0.0105s, Len=205.8\n",
      "DFJ Avg: Time=0.0019s, Len=205.8\n",
      "2-opt Avg: Time=0.0s, Len=209.4\n",
      "Concorde Avg: Time=0.0051s, Len=205.8\n",
      "LKH Avg: Time=0.0019s, Len=205.8\n"
     ]
    }
   ],
   "source": [
    "Random.seed!(1234)\n",
    "n, N = 10, 5\n",
    "instances = [generate_random_symmetric_tsp(n) for _ in 1:N]\n",
    "\n",
    "println(\"===== MTZ Results =====\")\n",
    "times_mtz, lengths_mtz = Float64[], Float64[]\n",
    "for (i,C) in enumerate(instances)\n",
    "    t,l = solve_mtz_tsp(C); push!(times_mtz,t); push!(lengths_mtz,l)\n",
    "    println(\"Inst $i: Time=$(round(t; digits=4))s, Len=$l\")\n",
    "end\n",
    "\n",
    "println(\"\\n===== DFJ Results =====\")\n",
    "times_dfj, lengths_dfj = Float64[], Float64[]\n",
    "for (i,C) in enumerate(instances)\n",
    "    t,l = solve_dfj_tsp(C); push!(times_dfj,t); push!(lengths_dfj,l)\n",
    "    println(\"Inst $i: Time=$(round(t; digits=4))s, Len=$l\")\n",
    "end\n",
    "\n",
    "println(\"\\n===== 2-opt Results =====\")\n",
    "times_2opt, lengths_2opt = Float64[], Float64[]\n",
    "for (i,C) in enumerate(instances)\n",
    "    t,l = solve_2opt_tsp(C); push!(times_2opt,t); push!(lengths_2opt,l)\n",
    "    println(\"Inst $i: Time=$(round(t; digits=4))s, Len=$l\")\n",
    "end\n",
    "\n",
    "println(\"\\n===== Concorde Results =====\")\n",
    "times_c, lengths_c = Float64[], Float64[]\n",
    "for (i,C) in enumerate(instances)\n",
    "    t,l = solve_concorde_tsp(C); push!(times_c,t); push!(lengths_c,l)\n",
    "    println(\"Inst $i: Time=$(round(t; digits=4))s, Len=$l\")\n",
    "end\n",
    "\n",
    "println(\"\\n===== LKH Results =====\")\n",
    "times_lkh, lengths_lkh = Float64[], Float64[]\n",
    "for (i,C) in enumerate(instances)\n",
    "    t,l = solve_lkh_tsp(C); push!(times_lkh,t); push!(lengths_lkh,l)\n",
    "    println(\"Inst $i: Time=$(round(t; digits=4))s, Len=$l\")\n",
    "end\n",
    "\n",
    "println(\"\\n\\nMTZ Avg: Time=\",round(mean(times_mtz); digits=4),\"s, Len=\",round(mean(lengths_mtz); digits=2))\n",
    "println(\"DFJ Avg: Time=\",round(mean(times_dfj); digits=4),\"s, Len=\",round(mean(lengths_dfj); digits=2))\n",
    "println(\"2-opt Avg: Time=\",round(mean(times_2opt); digits=4),\"s, Len=\",round(mean(lengths_2opt); digits=2))\n",
    "println(\"Concorde Avg: Time=\",round(mean(times_c); digits=4),\"s, Len=\",round(mean(lengths_c); digits=2))\n",
    "println(\"LKH Avg: Time=\",round(mean(times_lkh); digits=4),\"s, Len=\",round(mean(lengths_lkh); digits=2))"
   ]
  }
 ],
 "metadata": {
  "kernelspec": {
   "display_name": "Julia 1.11.5",
   "language": "julia",
   "name": "julia-1.11"
  },
  "language_info": {
   "file_extension": ".jl",
   "mimetype": "application/julia",
   "name": "julia",
   "version": "1.11.5"
  }
 },
 "nbformat": 4,
 "nbformat_minor": 5
}
