{
 "cells": [
  {
   "cell_type": "code",
   "execution_count": 1,
   "id": "73c3eb44",
   "metadata": {},
   "outputs": [
    {
     "name": "stdout",
     "output_type": "stream",
     "text": [
      "Instance 1:\n",
      "[0 70 49 22 88 90 72 27 48 20; 70 0 46 27 28 5 1 98 56 92; 49 46 0 6 15 45 78 71 3 45; 22 27 6 0 15 32 46 54 60 84; 88 28 15 15 0 90 78 72 59 38; 90 5 45 32 90 0 86 17 68 41; 72 1 78 46 78 86 0 63 2 64; 27 98 71 54 72 17 63 0 91 19; 48 56 3 60 59 68 2 91 0 57; 20 92 45 84 38 41 64 19 57 0]\n",
      "\n",
      "Instance 2:\n",
      "[0 6 13 44 32 85 13 22 32 51; 6 0 67 100 82 16 24 7 35 88; 13 67 0 79 76 16 55 54 25 96; 44 100 79 0 1 57 19 4 24 98; 32 82 76 1 0 4 9 92 74 93; 85 16 16 57 4 0 74 94 88 76; 13 24 55 19 9 74 0 62 5 93; 22 7 54 4 92 94 62 0 7 62; 32 35 25 24 74 88 5 7 0 26; 51 88 96 98 93 76 93 62 26 0]\n",
      "\n",
      "Instance 3:\n",
      "[0 84 57 57 27 83 25 70 52 22; 84 0 26 15 73 43 62 32 81 32; 57 26 0 23 59 52 95 46 47 19; 57 15 23 0 61 10 81 94 71 34; 27 73 59 61 0 29 19 94 14 51; 83 43 52 10 29 0 25 32 5 96; 25 62 95 81 19 25 0 39 44 89; 70 32 46 94 94 32 39 0 99 29; 52 81 47 71 14 5 44 99 0 40; 22 32 19 34 51 96 89 29 40 0]\n",
      "\n",
      "Instance 4:\n",
      "[0 58 88 82 58 51 91 37 10 48; 58 0 44 77 68 74 32 56 93 77; 88 44 0 77 2 76 96 92 27 82; 82 77 77 0 50 77 94 91 76 67; 58 68 2 50 0 38 28 16 36 53; 51 74 76 77 38 0 1 8 65 16; 91 32 96 94 28 1 0 54 68 16; 37 56 92 91 16 8 54 0 92 73; 10 93 27 76 36 65 68 92 0 2; 48 77 82 67 53 16 16 73 2 0]\n",
      "\n",
      "Instance 5:\n",
      "[0 44 5 82 78 33 32 48 38 65; 44 0 59 33 83 27 7 37 41 29; 5 59 0 64 55 92 32 39 38 55; 82 33 64 0 73 38 77 13 81 63; 78 83 55 73 0 57 48 42 91 18; 33 27 92 38 57 0 68 13 74 35; 32 7 32 77 48 68 0 53 70 45; 48 37 39 13 42 13 53 0 54 85; 38 41 38 81 91 74 70 54 0 32; 65 29 55 63 18 35 45 85 32 0]\n",
      "\n"
     ]
    }
   ],
   "source": [
    "using Random\n",
    "\n",
    "function generate_random_symmetric_tsp(n::Int, max_cost::Int=100)\n",
    "    C = zeros(Int, n, n)\n",
    "    for i in 1:n-1\n",
    "        for j in i+1:n\n",
    "            C[i, j] = rand(1:max_cost)\n",
    "            C[j, i] = C[i, j]\n",
    "        end\n",
    "    end\n",
    "    return C\n",
    "end\n",
    "\n",
    "# Generate 5 random TSP instances with n=10\n",
    "tsp_instances = [generate_random_symmetric_tsp(10) for _ in 1:5]\n",
    "\n",
    "# Print each instance\n",
    "for (idx, mat) in enumerate(tsp_instances)\n",
    "    println(\"Instance $idx:\")\n",
    "    println(mat)\n",
    "    println()\n",
    "end"
   ]
  }
 ],
 "metadata": {
  "kernelspec": {
   "display_name": "Julia 1.11.4",
   "language": "julia",
   "name": "julia-1.11"
  },
  "language_info": {
   "file_extension": ".jl",
   "mimetype": "application/julia",
   "name": "julia",
   "version": "1.11.4"
  }
 },
 "nbformat": 4,
 "nbformat_minor": 5
}
