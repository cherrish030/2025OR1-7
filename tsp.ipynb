{
 "cells": [
  {
   "cell_type": "markdown",
   "id": "9baf0e22",
   "metadata": {},
   "source": [
    "### Instance generator"
   ]
  },
  {
   "cell_type": "code",
   "execution_count": 1,
   "id": "73c3eb44",
   "metadata": {},
   "outputs": [
    {
     "name": "stdout",
     "output_type": "stream",
     "text": [
      "Instance 1:\n",
      "[0 48 45 89 98 58 2 83 13 82; 48 0 48 22 69 32 49 48 94 11; 45 48 0 78 58 81 99 97 64 37; 89 22 78 0 43 34 27 86 31 60; 98 69 58 43 0 71 39 89 5 20; 58 32 81 34 71 0 78 20 96 91; 2 49 99 27 39 78 0 18 63 75; 83 48 97 86 89 20 18 0 45 4; 13 94 64 31 5 96 63 45 0 42; 82 11 37 60 20 91 75 4 42 0]\n",
      "\n",
      "Instance 2:\n",
      "[0 69 80 75 31 84 24 35 86 65; 69 0 98 88 87 4 76 17 69 65; 80 98 0 36 2 56 48 87 25 78; 75 88 36 0 42 4 98 81 73 35; 31 87 2 42 0 25 68 45 55 24; 84 4 56 4 25 0 87 65 42 46; 24 76 48 98 68 87 0 78 82 60; 35 17 87 81 45 65 78 0 74 61; 86 69 25 73 55 42 82 74 0 3; 65 65 78 35 24 46 60 61 3 0]\n",
      "\n",
      "Instance 3:\n",
      "[0 38 63 93 89 86 69 23 85 35; 38 0 24 69 60 10 55 75 2 12; 63 24 0 30 56 22 23 44 80 68; 93 69 30 0 5 74 41 77 28 38; 89 60 56 5 0 53 39 12 100 66; 86 10 22 74 53 0 32 96 28 49; 69 55 23 41 39 32 0 62 65 26; 23 75 44 77 12 96 62 0 96 90; 85 2 80 28 100 28 65 96 0 44; 35 12 68 38 66 49 26 90 44 0]\n",
      "\n",
      "Instance 4:\n",
      "[0 4 64 93 7 66 33 38 96 74; 4 0 5 74 11 21 24 39 31 67; 64 5 0 4 88 76 67 6 1 23; 93 74 4 0 7 38 56 18 35 13; 7 11 88 7 0 59 21 84 50 35; 66 21 76 38 59 0 23 56 89 17; 33 24 67 56 21 23 0 19 10 47; 38 39 6 18 84 56 19 0 38 24; 96 31 1 35 50 89 10 38 0 70; 74 67 23 13 35 17 47 24 70 0]\n",
      "\n",
      "Instance 5:\n",
      "[0 72 53 43 43 14 51 86 38 52; 72 0 76 71 98 19 96 22 54 12; 53 76 0 12 63 60 67 17 36 27; 43 71 12 0 94 29 38 32 49 78; 43 98 63 94 0 52 20 34 61 5; 14 19 60 29 52 0 53 85 7 95; 51 96 67 38 20 53 0 58 44 48; 86 22 17 32 34 85 58 0 37 42; 38 54 36 49 61 7 44 37 0 47; 52 12 27 78 5 95 48 42 47 0]\n",
      "\n"
     ]
    }
   ],
   "source": [
    "using Random\n",
    "\n",
    "function generate_random_symmetric_tsp(n::Int, max_cost::Int=100)\n",
    "    C = zeros(Int, n, n)\n",
    "    for i in 1:n-1\n",
    "        for j in i+1:n\n",
    "            C[i, j] = rand(1:max_cost)\n",
    "            C[j, i] = C[i, j]\n",
    "        end\n",
    "    end\n",
    "    return C\n",
    "end\n",
    "\n",
    "# Generate 5 random TSP instances with n=10\n",
    "tsp_instances = [generate_random_symmetric_tsp(10) for _ in 1:5]\n",
    "\n",
    "# Print each instance\n",
    "for (idx, mat) in enumerate(tsp_instances)\n",
    "    println(\"Instance $idx:\")\n",
    "    println(mat)\n",
    "    println()\n",
    "end"
   ]
  },
  {
   "cell_type": "markdown",
   "id": "ff33d871",
   "metadata": {},
   "source": [
    "### (a) MTZ formulation"
   ]
  },
  {
   "cell_type": "code",
   "execution_count": 2,
   "id": "8abb0cff",
   "metadata": {},
   "outputs": [],
   "source": [
    "using JuMP, Gurobi, Statistics"
   ]
  },
  {
   "cell_type": "code",
   "execution_count": 4,
   "id": "aeb5a7d5",
   "metadata": {},
   "outputs": [
    {
     "data": {
      "text/plain": [
       "solve_mtz_tsp (generic function with 1 method)"
      ]
     },
     "metadata": {},
     "output_type": "display_data"
    }
   ],
   "source": [
    "function solve_mtz_tsp(C::Matrix{Int})\n",
    "    n = size(C, 1)\n",
    "    model = Model(Gurobi.Optimizer)\n",
    "    \n",
    "    set_silent(model)\n",
    "\n",
    "    # Binary decision variables x[i,j]\n",
    "    @variable(model, x[1:n, 1:n], Bin)\n",
    "    # MTZ auxiliary variables with bounds 2 <= u[i] <= n for i=2..n\n",
    "    @variable(model, 2 <= u[2:n] <= n)\n",
    "\n",
    "    # Objective: minimize total cost\n",
    "    @objective(model, Min, sum(C[i,j] * x[i,j] for i in 1:n, j in 1:n))\n",
    "\n",
    "    # Degree constraints: one in, one out per city\n",
    "    @constraint(model, [i=1:n], sum(x[i, j] for j in 1:n) == 1)\n",
    "    @constraint(model, [j=1:n], sum(x[i, j] for i in 1:n) == 1)\n",
    "\n",
    "    # MTZ subtour elimination\n",
    "    @constraint(model, [i=2:n, j=2:n; i != j], u[i] - u[j] + n * x[i, j] <= n - 1)\n",
    "\n",
    "    # No self-loops\n",
    "    @constraint(model, [i=1:n], x[i, i] == 0)\n",
    "\n",
    "    # Solve and return time & tour length\n",
    "    elapsed = @elapsed optimize!(model)\n",
    "    tour_length = objective_value(model)\n",
    "    return elapsed, tour_length\n",
    "end"
   ]
  },
  {
   "cell_type": "markdown",
   "id": "8a17e06a",
   "metadata": {},
   "source": [
    "### (b) DFJ formulation + lazy constraints"
   ]
  },
  {
   "cell_type": "markdown",
   "id": "d4885c55",
   "metadata": {},
   "source": [
    "#### Helper Methods"
   ]
  },
  {
   "cell_type": "code",
   "execution_count": null,
   "id": "08adaf33",
   "metadata": {},
   "outputs": [],
   "source": [
    "# Helper to find subtours in a solution matrix\n",
    "function find_subtours(sol::Matrix{Int})\n",
    "\n",
    "    n = size(sol,1)\n",
    "    visited = falses(n)\n",
    "    subtours = Vector{Vector{Int}}()\n",
    "\n",
    "    for i in 1:n\n",
    "        if !visited[i]\n",
    "\n",
    "            queue = [i]\n",
    "            comp = Int[]\n",
    "            visited[i] = true\n",
    "\n",
    "            while !isempty(queue)\n",
    "                u = popfirst!(queue)\n",
    "                push!(comp,u)\n",
    "\n",
    "                for v in 1:n\n",
    "                    if sol[u,v] == 1 && !visited[v]\n",
    "                        visited[v] = true\n",
    "                        push!(queue,v)\n",
    "                    end\n",
    "                end\n",
    "\n",
    "            end\n",
    "\n",
    "            push!(subtours, comp)\n",
    "\n",
    "        end\n",
    "    end\n",
    "    \n",
    "    return subtours\n",
    "\n",
    "end"
   ]
  },
  {
   "cell_type": "markdown",
   "id": "f88114ee",
   "metadata": {},
   "source": [
    "#### Formulation"
   ]
  },
  {
   "cell_type": "code",
   "execution_count": null,
   "id": "3ea6ee17",
   "metadata": {},
   "outputs": [],
   "source": []
  }
 ],
 "metadata": {
  "kernelspec": {
   "display_name": "Julia 1.11.5",
   "language": "julia",
   "name": "julia-1.11"
  },
  "language_info": {
   "file_extension": ".jl",
   "mimetype": "application/julia",
   "name": "julia",
   "version": "1.11.5"
  }
 },
 "nbformat": 4,
 "nbformat_minor": 5
}
